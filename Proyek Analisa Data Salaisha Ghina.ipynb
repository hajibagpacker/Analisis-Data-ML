{
  "cells": [
    {
      "cell_type": "markdown",
      "metadata": {
        "id": "H9wADwK78DCz"
      },
      "source": [
        "# Proyek Analisis Data: E-Commerce Public Dataset\n",
        "- **Nama:** SALAISHA GHINA FEBRIZKA\n",
        "- **Email:** salaishaagf@students.usu.ac.id\n",
        "- **ID Dicoding:** salaishaagf"
      ]
    },
    {
      "cell_type": "markdown",
      "metadata": {
        "id": "eE0raob58DC0"
      },
      "source": [
        "## Menentukan Pertanyaan Bisnis"
      ]
    },
    {
      "cell_type": "markdown",
      "metadata": {
        "id": "GmQeQ5YF8DC0"
      },
      "source": [
        "- Produk mana yang paling menguntungkan?\n",
        "- Bagaimana kita dapat mengetahui produk yang paling disukai?"
      ]
    },
    {
      "cell_type": "markdown",
      "metadata": {
        "id": "H-z4QGlO8DC1"
      },
      "source": [
        "## Import Semua Packages/Library yang Digunakan"
      ]
    },
    {
      "cell_type": "code",
      "execution_count": 44,
      "metadata": {
        "id": "FVYwaObI8DC1"
      },
      "outputs": [],
      "source": [
        "import pandas as pd\n",
        "import numpy as np\n",
        "import matplotlib.pyplot as plt\n",
        "import seaborn as sns"
      ]
    },
    {
      "cell_type": "markdown",
      "metadata": {
        "id": "h_Sh51Xy8DC1"
      },
      "source": [
        "## Data Wrangling"
      ]
    },
    {
      "cell_type": "markdown",
      "metadata": {
        "id": "sXU2GBYu8DC1"
      },
      "source": [
        "### Gathering Data"
      ]
    },
    {
      "cell_type": "code",
      "execution_count": 3,
      "metadata": {
        "id": "zjCBk1BI8DC1"
      },
      "outputs": [],
      "source": [
        "# Membaca data dari setiap file CSV\n",
        "customers_df = pd.read_csv(\"/content/customers_dataset.csv\", delimiter=\",\")\n",
        "order_items_df = pd.read_csv(\"/content/order_items_dataset.csv\", delimiter=\",\")\n",
        "orders_df = pd.read_csv(\"/content/orders_dataset.csv\", delimiter=\",\")\n",
        "products_df = pd.read_csv(\"/content/products_dataset.csv\", delimiter=\",\")\n",
        "sellers_df = pd.read_csv(\"/content/sellers_dataset.csv\", delimiter=\",\")\n",
        "product_category_name_translation_df = pd.read_csv(\"/content/product_category_name_translation.csv\", delimiter=\",\")\n",
        "geolocation_df = pd.read_csv(\"/content/geolocation_dataset.csv\", delimiter=\",\")\n",
        "order_payments_df = pd.read_csv(\"/content/order_payments_dataset.csv\", delimiter=\",\")\n",
        "order_reviews_df = pd.read_csv(\"/content/order_reviews_dataset.csv\", delimiter=\",\")\n"
      ]
    },
    {
      "cell_type": "markdown",
      "source": [
        "**Insight:**\n",
        "- pd.read_csv() adalah fungsi yang digunakan untuk membaca data dari file CSV.\n",
        "\n",
        "*  \"/content/customers_dataset.csv\" adalah path ke file CSV yang berisi data pelanggan\n",
        "\n",
        "*   delimiter=\",\": Ini menunjukkan bahwa data dalam file CSV dipisahkan dengan koma."
      ],
      "metadata": {
        "id": "MMi6xGaDkbCi"
      }
    },
    {
      "cell_type": "markdown",
      "metadata": {
        "id": "FHSiqaZp8DC1"
      },
      "source": [
        "### Assessing Data"
      ]
    },
    {
      "cell_type": "code",
      "source": [
        "#Menampilkan beberapa baris pertama dari setiap DataFrame\n",
        "print(\"Customers DataFrame:\")\n",
        "print(customers_df.head())\n",
        "print(\"\\nOrder Items DataFrame:\")\n",
        "print(order_items_df.head())\n",
        "print(\"\\nOrders DataFrame:\")\n",
        "print(orders_df.head())\n",
        "print(\"\\nProducts DataFrame:\")\n",
        "print(products_df.head())\n",
        "print(\"\\nSellers DataFrame:\")\n",
        "print(sellers_df.head())\n",
        "print(\"\\nProduct Category Name Translation DataFrame:\")\n",
        "print(product_category_name_translation_df.head())\n",
        "print(\"\\nGeolocation DataFrame:\")\n",
        "print(geolocation_df.head())\n",
        "print(\"\\nOrder Payments DataFrame:\")\n",
        "print(order_payments_df.head())\n",
        "print(\"\\nOrder Reviews DataFrame:\")\n",
        "print(order_reviews_df.head())"
      ],
      "metadata": {
        "id": "ax-3tEjc9Cj1",
        "colab": {
          "base_uri": "https://localhost:8080/"
        },
        "outputId": "1647407c-8fe3-4f68-9698-89f374e99d7c"
      },
      "execution_count": 5,
      "outputs": [
        {
          "output_type": "stream",
          "name": "stdout",
          "text": [
            "Customers DataFrame:\n",
            "                        customer_id                customer_unique_id  \\\n",
            "0  06b8999e2fba1a1fbc88172c00ba8bc7  861eff4711a542e4b93843c6dd7febb0   \n",
            "1  18955e83d337fd6b2def6b18a428ac77  290c77bc529b7ac935b93aa66c333dc3   \n",
            "2  4e7b3e00288586ebd08712fdd0374a03  060e732b5b29e8181a18229c7b0b2b5e   \n",
            "3  b2b6027bc5c5109e529d4dc6358b12c3  259dac757896d24d7702b9acbbff3f3c   \n",
            "4  4f2d8ab171c80ec8364f7c12e35b23ad  345ecd01c38d18a9036ed96c73b8d066   \n",
            "\n",
            "   customer_zip_code_prefix          customer_city customer_state  \n",
            "0                     14409                 franca             SP  \n",
            "1                      9790  sao bernardo do campo             SP  \n",
            "2                      1151              sao paulo             SP  \n",
            "3                      8775        mogi das cruzes             SP  \n",
            "4                     13056               campinas             SP  \n",
            "\n",
            "Order Items DataFrame:\n",
            "                           order_id  order_item_id  \\\n",
            "0  00010242fe8c5a6d1ba2dd792cb16214              1   \n",
            "1  00018f77f2f0320c557190d7a144bdd3              1   \n",
            "2  000229ec398224ef6ca0657da4fc703e              1   \n",
            "3  00024acbcdf0a6daa1e931b038114c75              1   \n",
            "4  00042b26cf59d7ce69dfabb4e55b4fd9              1   \n",
            "\n",
            "                         product_id                         seller_id  \\\n",
            "0  4244733e06e7ecb4970a6e2683c13e61  48436dade18ac8b2bce089ec2a041202   \n",
            "1  e5f2d52b802189ee658865ca93d83a8f  dd7ddc04e1b6c2c614352b383efe2d36   \n",
            "2  c777355d18b72b67abbeef9df44fd0fd  5b51032eddd242adc84c38acab88f23d   \n",
            "3  7634da152a4610f1595efa32f14722fc  9d7a1d34a5052409006425275ba1c2b4   \n",
            "4  ac6c3623068f30de03045865e4e10089  df560393f3a51e74553ab94004ba5c87   \n",
            "\n",
            "   shipping_limit_date   price  freight_value  \n",
            "0  2017-09-19 09:45:35   58.90          13.29  \n",
            "1  2017-05-03 11:05:13  239.90          19.93  \n",
            "2  2018-01-18 14:48:30  199.00          17.87  \n",
            "3  2018-08-15 10:10:18   12.99          12.79  \n",
            "4  2017-02-13 13:57:51  199.90          18.14  \n",
            "\n",
            "Orders DataFrame:\n",
            "                           order_id                       customer_id  \\\n",
            "0  e481f51cbdc54678b7cc49136f2d6af7  9ef432eb6251297304e76186b10a928d   \n",
            "1  53cdb2fc8bc7dce0b6741e2150273451  b0830fb4747a6c6d20dea0b8c802d7ef   \n",
            "2  47770eb9100c2d0c44946d9cf07ec65d  41ce2a54c0b03bf3443c3d931a367089   \n",
            "3  949d5b44dbf5de918fe9c16f97b45f8a  f88197465ea7920adcdbec7375364d82   \n",
            "4  ad21c59c0840e6cb83a9ceb5573f8159  8ab97904e6daea8866dbdbc4fb7aad2c   \n",
            "\n",
            "  order_status order_purchase_timestamp    order_approved_at  \\\n",
            "0    delivered      2017-10-02 10:56:33  2017-10-02 11:07:15   \n",
            "1    delivered      2018-07-24 20:41:37  2018-07-26 03:24:27   \n",
            "2    delivered      2018-08-08 08:38:49  2018-08-08 08:55:23   \n",
            "3    delivered      2017-11-18 19:28:06  2017-11-18 19:45:59   \n",
            "4    delivered      2018-02-13 21:18:39  2018-02-13 22:20:29   \n",
            "\n",
            "  order_delivered_carrier_date order_delivered_customer_date  \\\n",
            "0          2017-10-04 19:55:00           2017-10-10 21:25:13   \n",
            "1          2018-07-26 14:31:00           2018-08-07 15:27:45   \n",
            "2          2018-08-08 13:50:00           2018-08-17 18:06:29   \n",
            "3          2017-11-22 13:39:59           2017-12-02 00:28:42   \n",
            "4          2018-02-14 19:46:34           2018-02-16 18:17:02   \n",
            "\n",
            "  order_estimated_delivery_date  \n",
            "0           2017-10-18 00:00:00  \n",
            "1           2018-08-13 00:00:00  \n",
            "2           2018-09-04 00:00:00  \n",
            "3           2017-12-15 00:00:00  \n",
            "4           2018-02-26 00:00:00  \n",
            "\n",
            "Products DataFrame:\n",
            "                         product_id  product_category_name  \\\n",
            "0  1e9e8ef04dbcff4541ed26657ea517e5             perfumaria   \n",
            "1  3aa071139cb16b67ca9e5dea641aaa2f                  artes   \n",
            "2  96bd76ec8810374ed1b65e291975717f          esporte_lazer   \n",
            "3  cef67bcfe19066a932b7673e239eb23d                  bebes   \n",
            "4  9dc1a7de274444849c219cff195d0b71  utilidades_domesticas   \n",
            "\n",
            "   product_name_lenght  product_description_lenght  product_photos_qty  \\\n",
            "0                 40.0                       287.0                 1.0   \n",
            "1                 44.0                       276.0                 1.0   \n",
            "2                 46.0                       250.0                 1.0   \n",
            "3                 27.0                       261.0                 1.0   \n",
            "4                 37.0                       402.0                 4.0   \n",
            "\n",
            "   product_weight_g  product_length_cm  product_height_cm  product_width_cm  \n",
            "0             225.0               16.0               10.0              14.0  \n",
            "1            1000.0               30.0               18.0              20.0  \n",
            "2             154.0               18.0                9.0              15.0  \n",
            "3             371.0               26.0                4.0              26.0  \n",
            "4             625.0               20.0               17.0              13.0  \n",
            "\n",
            "Sellers DataFrame:\n",
            "                          seller_id  seller_zip_code_prefix  \\\n",
            "0  3442f8959a84dea7ee197c632cb2df15                   13023   \n",
            "1  d1b65fc7debc3361ea86b5f14c68d2e2                   13844   \n",
            "2  ce3ad9de960102d0677a81f5d0bb7b2d                   20031   \n",
            "3  c0f3eea2e14555b6faeea3dd58c1b1c3                    4195   \n",
            "4  51a04a8a6bdcb23deccc82b0b80742cf                   12914   \n",
            "\n",
            "         seller_city seller_state  \n",
            "0           campinas           SP  \n",
            "1         mogi guacu           SP  \n",
            "2     rio de janeiro           RJ  \n",
            "3          sao paulo           SP  \n",
            "4  braganca paulista           SP  \n",
            "\n",
            "Product Category Name Translation DataFrame:\n",
            "    product_category_name product_category_name_english\n",
            "0            beleza_saude                 health_beauty\n",
            "1  informatica_acessorios         computers_accessories\n",
            "2              automotivo                          auto\n",
            "3         cama_mesa_banho                bed_bath_table\n",
            "4        moveis_decoracao               furniture_decor\n",
            "\n",
            "Geolocation DataFrame:\n",
            "   geolocation_zip_code_prefix  geolocation_lat  geolocation_lng  \\\n",
            "0                         1037       -23.545621       -46.639292   \n",
            "1                         1046       -23.546081       -46.644820   \n",
            "2                         1046       -23.546129       -46.642951   \n",
            "3                         1041       -23.544392       -46.639499   \n",
            "4                         1035       -23.541578       -46.641607   \n",
            "\n",
            "  geolocation_city geolocation_state  \n",
            "0        sao paulo                SP  \n",
            "1        sao paulo                SP  \n",
            "2        sao paulo                SP  \n",
            "3        sao paulo                SP  \n",
            "4        sao paulo                SP  \n",
            "\n",
            "Order Payments DataFrame:\n",
            "                           order_id  payment_sequential payment_type  \\\n",
            "0  b81ef226f3fe1789b1e8b2acac839d17                   1  credit_card   \n",
            "1  a9810da82917af2d9aefd1278f1dcfa0                   1  credit_card   \n",
            "2  25e8ea4e93396b6fa0d3dd708e76c1bd                   1  credit_card   \n",
            "3  ba78997921bbcdc1373bb41e913ab953                   1  credit_card   \n",
            "4  42fdf880ba16b47b59251dd489d4441a                   1  credit_card   \n",
            "\n",
            "   payment_installments  payment_value  \n",
            "0                     8          99.33  \n",
            "1                     1          24.39  \n",
            "2                     1          65.71  \n",
            "3                     8         107.78  \n",
            "4                     2         128.45  \n",
            "\n",
            "Order Reviews DataFrame:\n",
            "                          review_id                          order_id  \\\n",
            "0  7bc2406110b926393aa56f80a40eba40  73fc7af87114b39712e6da79b0a377eb   \n",
            "1  80e641a11e56f04c1ad469d5645fdfde  a548910a1c6147796b98fdf73dbeba33   \n",
            "2  228ce5500dc1d8e020d8d1322874b6f0  f9e4b658b201a9f2ecdecbb34bed034b   \n",
            "3  e64fb393e7b32834bb789ff8bb30750e  658677c97b385a9be170737859d3511b   \n",
            "4  f7c4243c7fe1938f181bec41a392bdeb  8e6bfb81e283fa7e4f11123a3fb894f1   \n",
            "\n",
            "   review_score review_comment_title  \\\n",
            "0             4                  NaN   \n",
            "1             5                  NaN   \n",
            "2             5                  NaN   \n",
            "3             5                  NaN   \n",
            "4             5                  NaN   \n",
            "\n",
            "                              review_comment_message review_creation_date  \\\n",
            "0                                                NaN  2018-01-18 00:00:00   \n",
            "1                                                NaN  2018-03-10 00:00:00   \n",
            "2                                                NaN  2018-02-17 00:00:00   \n",
            "3              Recebi bem antes do prazo estipulado.  2017-04-21 00:00:00   \n",
            "4  Parabéns lojas lannister adorei comprar pela I...  2018-03-01 00:00:00   \n",
            "\n",
            "  review_answer_timestamp  \n",
            "0     2018-01-18 21:46:59  \n",
            "1     2018-03-11 03:05:13  \n",
            "2     2018-02-18 14:36:24  \n",
            "3     2017-04-21 22:02:06  \n",
            "4     2018-03-02 10:26:53  \n"
          ]
        }
      ]
    },
    {
      "cell_type": "markdown",
      "source": [
        "**Insight:**\n",
        "\n",
        "Bagian ini bertujuan untuk memberikan gambaran awal tentang data yang ada di setiap DataFrame.\n",
        "\n",
        "print(\"Customers DataFrame:\") berguna untuk menampilkan teks \"Customers DataFrame:\" ke konsol\n",
        "\n",
        "*   print(\"Customers DataFrame:\") berguna untuk menampilkan teks \"Customers DataFrame:\" ke konsol\n",
        "\n",
        "*   print(customers_df.head()) berguna unyuk menampilkan 5 baris pertama dari DataFrame customers_df ke konsol. Fungsi head() mengambil 5 baris pertama dari DataFrame secara default. Anda dapat mengubah jumlah baris yang ditampilkan dengan memberikan argumen ke fungsi head(), misalnya customers_df.head(10) untuk menampilkan 10 baris pertama.\n",
        "\n",
        "\n",
        "*   print(\"\\nOrder Items DataFrame:\") berguna untuk menampilkan teks \"Order Items DataFrame:\" ke konsol, dengan baris baru (\\n) untuk membuat jarak antara teks.\n",
        "\n",
        "\n",
        "*   print(order_items_df.head()) menampilkan 5 baris pertama dari DataFrame order_items_df ke konsol."
      ],
      "metadata": {
        "id": "7dtxhAPrkhPL"
      }
    },
    {
      "cell_type": "markdown",
      "metadata": {
        "id": "EhN5R4hr8DC1"
      },
      "source": [
        "### Cleaning Data\n",
        "**1. untuk menemukan missing value pada data**"
      ]
    },
    {
      "cell_type": "code",
      "source": [
        "# Membuat dictionary untuk menyimpan missing values dari setiap DataFrame\n",
        "missing_values_dict = {\n",
        "    \"Customers\": customers_df.isnull().sum(),\n",
        "    \"Order Items\": order_items_df.isnull().sum(),\n",
        "    \"Orders\": orders_df.isnull().sum(),\n",
        "    \"Products\": products_df.isnull().sum(),\n",
        "    \"Sellers\": sellers_df.isnull().sum(),\n",
        "    \"Product Category Translation\": product_category_name_translation_df.isnull().sum(),\n",
        "    \"Geolocation\": geolocation_df.isnull().sum(),\n",
        "    \"Order Payments\": order_payments_df.isnull().sum(),\n",
        "    \"Order Reviews\": order_reviews_df.isnull().sum(),\n",
        "}\n",
        "\n",
        "# Mengubah dictionary menjadi DataFrame\n",
        "missing_values_df = pd.DataFrame(missing_values_dict)\n",
        "\n",
        "# Menampilkan tabel missing values\n",
        "print(\"Missing Values in Each DataFrame:\")\n",
        "print(missing_values_df)\n",
        "\n",
        "# Jika ingin mengurutkan berdasarkan jumlah missing values pada setiap DataFrame\n",
        "sorted_missing_values_df = missing_values_df.sort_values(by=missing_values_df.columns[0], ascending=False)\n",
        "print(\"\\nSorted Missing Values Table:\")\n",
        "print(sorted_missing_values_df)"
      ],
      "metadata": {
        "id": "jVnYpprE9Evz",
        "colab": {
          "base_uri": "https://localhost:8080/"
        },
        "outputId": "b7026519-6d7c-4883-b30e-68af30ed7ca1"
      },
      "execution_count": 19,
      "outputs": [
        {
          "output_type": "stream",
          "name": "stdout",
          "text": [
            "Missing Values in Each DataFrame:\n",
            "                               Customers  Order Items  Orders  Products  \\\n",
            "customer_city                        0.0          NaN     NaN       NaN   \n",
            "customer_id                          0.0          NaN     0.0       NaN   \n",
            "customer_state                       0.0          NaN     NaN       NaN   \n",
            "customer_unique_id                   0.0          NaN     NaN       NaN   \n",
            "customer_zip_code_prefix             0.0          NaN     NaN       NaN   \n",
            "freight_value                        NaN          0.0     NaN       NaN   \n",
            "geolocation_city                     NaN          NaN     NaN       NaN   \n",
            "geolocation_lat                      NaN          NaN     NaN       NaN   \n",
            "geolocation_lng                      NaN          NaN     NaN       NaN   \n",
            "geolocation_state                    NaN          NaN     NaN       NaN   \n",
            "geolocation_zip_code_prefix          NaN          NaN     NaN       NaN   \n",
            "order_approved_at                    NaN          NaN   160.0       NaN   \n",
            "order_delivered_carrier_date         NaN          NaN  1783.0       NaN   \n",
            "order_delivered_customer_date        NaN          NaN  2965.0       NaN   \n",
            "order_estimated_delivery_date        NaN          NaN     0.0       NaN   \n",
            "order_id                             NaN          0.0     0.0       NaN   \n",
            "order_item_id                        NaN          0.0     NaN       NaN   \n",
            "order_purchase_timestamp             NaN          NaN     0.0       NaN   \n",
            "order_status                         NaN          NaN     0.0       NaN   \n",
            "payment_installments                 NaN          NaN     NaN       NaN   \n",
            "payment_sequential                   NaN          NaN     NaN       NaN   \n",
            "payment_type                         NaN          NaN     NaN       NaN   \n",
            "payment_value                        NaN          NaN     NaN       NaN   \n",
            "price                                NaN          0.0     NaN       NaN   \n",
            "product_category_name                NaN          NaN     NaN     610.0   \n",
            "product_category_name_english        NaN          NaN     NaN       NaN   \n",
            "product_description_lenght           NaN          NaN     NaN     610.0   \n",
            "product_height_cm                    NaN          NaN     NaN       2.0   \n",
            "product_id                           NaN          0.0     NaN       0.0   \n",
            "product_length_cm                    NaN          NaN     NaN       2.0   \n",
            "product_name_lenght                  NaN          NaN     NaN     610.0   \n",
            "product_photos_qty                   NaN          NaN     NaN     610.0   \n",
            "product_weight_g                     NaN          NaN     NaN       2.0   \n",
            "product_width_cm                     NaN          NaN     NaN       2.0   \n",
            "review_answer_timestamp              NaN          NaN     NaN       NaN   \n",
            "review_comment_message               NaN          NaN     NaN       NaN   \n",
            "review_comment_title                 NaN          NaN     NaN       NaN   \n",
            "review_creation_date                 NaN          NaN     NaN       NaN   \n",
            "review_id                            NaN          NaN     NaN       NaN   \n",
            "review_score                         NaN          NaN     NaN       NaN   \n",
            "seller_city                          NaN          NaN     NaN       NaN   \n",
            "seller_id                            NaN          0.0     NaN       NaN   \n",
            "seller_state                         NaN          NaN     NaN       NaN   \n",
            "seller_zip_code_prefix               NaN          NaN     NaN       NaN   \n",
            "shipping_limit_date                  NaN          0.0     NaN       NaN   \n",
            "\n",
            "                               Sellers  Product Category Translation  \\\n",
            "customer_city                      NaN                           NaN   \n",
            "customer_id                        NaN                           NaN   \n",
            "customer_state                     NaN                           NaN   \n",
            "customer_unique_id                 NaN                           NaN   \n",
            "customer_zip_code_prefix           NaN                           NaN   \n",
            "freight_value                      NaN                           NaN   \n",
            "geolocation_city                   NaN                           NaN   \n",
            "geolocation_lat                    NaN                           NaN   \n",
            "geolocation_lng                    NaN                           NaN   \n",
            "geolocation_state                  NaN                           NaN   \n",
            "geolocation_zip_code_prefix        NaN                           NaN   \n",
            "order_approved_at                  NaN                           NaN   \n",
            "order_delivered_carrier_date       NaN                           NaN   \n",
            "order_delivered_customer_date      NaN                           NaN   \n",
            "order_estimated_delivery_date      NaN                           NaN   \n",
            "order_id                           NaN                           NaN   \n",
            "order_item_id                      NaN                           NaN   \n",
            "order_purchase_timestamp           NaN                           NaN   \n",
            "order_status                       NaN                           NaN   \n",
            "payment_installments               NaN                           NaN   \n",
            "payment_sequential                 NaN                           NaN   \n",
            "payment_type                       NaN                           NaN   \n",
            "payment_value                      NaN                           NaN   \n",
            "price                              NaN                           NaN   \n",
            "product_category_name              NaN                           0.0   \n",
            "product_category_name_english      NaN                           0.0   \n",
            "product_description_lenght         NaN                           NaN   \n",
            "product_height_cm                  NaN                           NaN   \n",
            "product_id                         NaN                           NaN   \n",
            "product_length_cm                  NaN                           NaN   \n",
            "product_name_lenght                NaN                           NaN   \n",
            "product_photos_qty                 NaN                           NaN   \n",
            "product_weight_g                   NaN                           NaN   \n",
            "product_width_cm                   NaN                           NaN   \n",
            "review_answer_timestamp            NaN                           NaN   \n",
            "review_comment_message             NaN                           NaN   \n",
            "review_comment_title               NaN                           NaN   \n",
            "review_creation_date               NaN                           NaN   \n",
            "review_id                          NaN                           NaN   \n",
            "review_score                       NaN                           NaN   \n",
            "seller_city                        0.0                           NaN   \n",
            "seller_id                          0.0                           NaN   \n",
            "seller_state                       0.0                           NaN   \n",
            "seller_zip_code_prefix             0.0                           NaN   \n",
            "shipping_limit_date                NaN                           NaN   \n",
            "\n",
            "                               Geolocation  Order Payments  Order Reviews  \n",
            "customer_city                          NaN             NaN            NaN  \n",
            "customer_id                            NaN             NaN            NaN  \n",
            "customer_state                         NaN             NaN            NaN  \n",
            "customer_unique_id                     NaN             NaN            NaN  \n",
            "customer_zip_code_prefix               NaN             NaN            NaN  \n",
            "freight_value                          NaN             NaN            NaN  \n",
            "geolocation_city                       0.0             NaN            NaN  \n",
            "geolocation_lat                        0.0             NaN            NaN  \n",
            "geolocation_lng                        0.0             NaN            NaN  \n",
            "geolocation_state                      0.0             NaN            NaN  \n",
            "geolocation_zip_code_prefix            0.0             NaN            NaN  \n",
            "order_approved_at                      NaN             NaN            NaN  \n",
            "order_delivered_carrier_date           NaN             NaN            NaN  \n",
            "order_delivered_customer_date          NaN             NaN            NaN  \n",
            "order_estimated_delivery_date          NaN             NaN            NaN  \n",
            "order_id                               NaN             0.0            0.0  \n",
            "order_item_id                          NaN             NaN            NaN  \n",
            "order_purchase_timestamp               NaN             NaN            NaN  \n",
            "order_status                           NaN             NaN            NaN  \n",
            "payment_installments                   NaN             0.0            NaN  \n",
            "payment_sequential                     NaN             0.0            NaN  \n",
            "payment_type                           NaN             0.0            NaN  \n",
            "payment_value                          NaN             0.0            NaN  \n",
            "price                                  NaN             NaN            NaN  \n",
            "product_category_name                  NaN             NaN            NaN  \n",
            "product_category_name_english          NaN             NaN            NaN  \n",
            "product_description_lenght             NaN             NaN            NaN  \n",
            "product_height_cm                      NaN             NaN            NaN  \n",
            "product_id                             NaN             NaN            NaN  \n",
            "product_length_cm                      NaN             NaN            NaN  \n",
            "product_name_lenght                    NaN             NaN            NaN  \n",
            "product_photos_qty                     NaN             NaN            NaN  \n",
            "product_weight_g                       NaN             NaN            NaN  \n",
            "product_width_cm                       NaN             NaN            NaN  \n",
            "review_answer_timestamp                NaN             NaN            0.0  \n",
            "review_comment_message                 NaN             NaN        58247.0  \n",
            "review_comment_title                   NaN             NaN        87656.0  \n",
            "review_creation_date                   NaN             NaN            0.0  \n",
            "review_id                              NaN             NaN            0.0  \n",
            "review_score                           NaN             NaN            0.0  \n",
            "seller_city                            NaN             NaN            NaN  \n",
            "seller_id                              NaN             NaN            NaN  \n",
            "seller_state                           NaN             NaN            NaN  \n",
            "seller_zip_code_prefix                 NaN             NaN            NaN  \n",
            "shipping_limit_date                    NaN             NaN            NaN  \n",
            "\n",
            "Sorted Missing Values Table:\n",
            "                               Customers  Order Items  Orders  Products  \\\n",
            "customer_city                        0.0          NaN     NaN       NaN   \n",
            "customer_id                          0.0          NaN     0.0       NaN   \n",
            "customer_state                       0.0          NaN     NaN       NaN   \n",
            "customer_unique_id                   0.0          NaN     NaN       NaN   \n",
            "customer_zip_code_prefix             0.0          NaN     NaN       NaN   \n",
            "freight_value                        NaN          0.0     NaN       NaN   \n",
            "geolocation_city                     NaN          NaN     NaN       NaN   \n",
            "geolocation_lat                      NaN          NaN     NaN       NaN   \n",
            "geolocation_lng                      NaN          NaN     NaN       NaN   \n",
            "geolocation_state                    NaN          NaN     NaN       NaN   \n",
            "geolocation_zip_code_prefix          NaN          NaN     NaN       NaN   \n",
            "order_approved_at                    NaN          NaN   160.0       NaN   \n",
            "order_delivered_carrier_date         NaN          NaN  1783.0       NaN   \n",
            "order_delivered_customer_date        NaN          NaN  2965.0       NaN   \n",
            "order_estimated_delivery_date        NaN          NaN     0.0       NaN   \n",
            "order_id                             NaN          0.0     0.0       NaN   \n",
            "order_item_id                        NaN          0.0     NaN       NaN   \n",
            "order_purchase_timestamp             NaN          NaN     0.0       NaN   \n",
            "order_status                         NaN          NaN     0.0       NaN   \n",
            "payment_installments                 NaN          NaN     NaN       NaN   \n",
            "payment_sequential                   NaN          NaN     NaN       NaN   \n",
            "payment_type                         NaN          NaN     NaN       NaN   \n",
            "payment_value                        NaN          NaN     NaN       NaN   \n",
            "price                                NaN          0.0     NaN       NaN   \n",
            "product_category_name                NaN          NaN     NaN     610.0   \n",
            "product_category_name_english        NaN          NaN     NaN       NaN   \n",
            "product_description_lenght           NaN          NaN     NaN     610.0   \n",
            "product_height_cm                    NaN          NaN     NaN       2.0   \n",
            "product_id                           NaN          0.0     NaN       0.0   \n",
            "product_length_cm                    NaN          NaN     NaN       2.0   \n",
            "product_name_lenght                  NaN          NaN     NaN     610.0   \n",
            "product_photos_qty                   NaN          NaN     NaN     610.0   \n",
            "product_weight_g                     NaN          NaN     NaN       2.0   \n",
            "product_width_cm                     NaN          NaN     NaN       2.0   \n",
            "review_answer_timestamp              NaN          NaN     NaN       NaN   \n",
            "review_comment_message               NaN          NaN     NaN       NaN   \n",
            "review_comment_title                 NaN          NaN     NaN       NaN   \n",
            "review_creation_date                 NaN          NaN     NaN       NaN   \n",
            "review_id                            NaN          NaN     NaN       NaN   \n",
            "review_score                         NaN          NaN     NaN       NaN   \n",
            "seller_city                          NaN          NaN     NaN       NaN   \n",
            "seller_id                            NaN          0.0     NaN       NaN   \n",
            "seller_state                         NaN          NaN     NaN       NaN   \n",
            "seller_zip_code_prefix               NaN          NaN     NaN       NaN   \n",
            "shipping_limit_date                  NaN          0.0     NaN       NaN   \n",
            "\n",
            "                               Sellers  Product Category Translation  \\\n",
            "customer_city                      NaN                           NaN   \n",
            "customer_id                        NaN                           NaN   \n",
            "customer_state                     NaN                           NaN   \n",
            "customer_unique_id                 NaN                           NaN   \n",
            "customer_zip_code_prefix           NaN                           NaN   \n",
            "freight_value                      NaN                           NaN   \n",
            "geolocation_city                   NaN                           NaN   \n",
            "geolocation_lat                    NaN                           NaN   \n",
            "geolocation_lng                    NaN                           NaN   \n",
            "geolocation_state                  NaN                           NaN   \n",
            "geolocation_zip_code_prefix        NaN                           NaN   \n",
            "order_approved_at                  NaN                           NaN   \n",
            "order_delivered_carrier_date       NaN                           NaN   \n",
            "order_delivered_customer_date      NaN                           NaN   \n",
            "order_estimated_delivery_date      NaN                           NaN   \n",
            "order_id                           NaN                           NaN   \n",
            "order_item_id                      NaN                           NaN   \n",
            "order_purchase_timestamp           NaN                           NaN   \n",
            "order_status                       NaN                           NaN   \n",
            "payment_installments               NaN                           NaN   \n",
            "payment_sequential                 NaN                           NaN   \n",
            "payment_type                       NaN                           NaN   \n",
            "payment_value                      NaN                           NaN   \n",
            "price                              NaN                           NaN   \n",
            "product_category_name              NaN                           0.0   \n",
            "product_category_name_english      NaN                           0.0   \n",
            "product_description_lenght         NaN                           NaN   \n",
            "product_height_cm                  NaN                           NaN   \n",
            "product_id                         NaN                           NaN   \n",
            "product_length_cm                  NaN                           NaN   \n",
            "product_name_lenght                NaN                           NaN   \n",
            "product_photos_qty                 NaN                           NaN   \n",
            "product_weight_g                   NaN                           NaN   \n",
            "product_width_cm                   NaN                           NaN   \n",
            "review_answer_timestamp            NaN                           NaN   \n",
            "review_comment_message             NaN                           NaN   \n",
            "review_comment_title               NaN                           NaN   \n",
            "review_creation_date               NaN                           NaN   \n",
            "review_id                          NaN                           NaN   \n",
            "review_score                       NaN                           NaN   \n",
            "seller_city                        0.0                           NaN   \n",
            "seller_id                          0.0                           NaN   \n",
            "seller_state                       0.0                           NaN   \n",
            "seller_zip_code_prefix             0.0                           NaN   \n",
            "shipping_limit_date                NaN                           NaN   \n",
            "\n",
            "                               Geolocation  Order Payments  Order Reviews  \n",
            "customer_city                          NaN             NaN            NaN  \n",
            "customer_id                            NaN             NaN            NaN  \n",
            "customer_state                         NaN             NaN            NaN  \n",
            "customer_unique_id                     NaN             NaN            NaN  \n",
            "customer_zip_code_prefix               NaN             NaN            NaN  \n",
            "freight_value                          NaN             NaN            NaN  \n",
            "geolocation_city                       0.0             NaN            NaN  \n",
            "geolocation_lat                        0.0             NaN            NaN  \n",
            "geolocation_lng                        0.0             NaN            NaN  \n",
            "geolocation_state                      0.0             NaN            NaN  \n",
            "geolocation_zip_code_prefix            0.0             NaN            NaN  \n",
            "order_approved_at                      NaN             NaN            NaN  \n",
            "order_delivered_carrier_date           NaN             NaN            NaN  \n",
            "order_delivered_customer_date          NaN             NaN            NaN  \n",
            "order_estimated_delivery_date          NaN             NaN            NaN  \n",
            "order_id                               NaN             0.0            0.0  \n",
            "order_item_id                          NaN             NaN            NaN  \n",
            "order_purchase_timestamp               NaN             NaN            NaN  \n",
            "order_status                           NaN             NaN            NaN  \n",
            "payment_installments                   NaN             0.0            NaN  \n",
            "payment_sequential                     NaN             0.0            NaN  \n",
            "payment_type                           NaN             0.0            NaN  \n",
            "payment_value                          NaN             0.0            NaN  \n",
            "price                                  NaN             NaN            NaN  \n",
            "product_category_name                  NaN             NaN            NaN  \n",
            "product_category_name_english          NaN             NaN            NaN  \n",
            "product_description_lenght             NaN             NaN            NaN  \n",
            "product_height_cm                      NaN             NaN            NaN  \n",
            "product_id                             NaN             NaN            NaN  \n",
            "product_length_cm                      NaN             NaN            NaN  \n",
            "product_name_lenght                    NaN             NaN            NaN  \n",
            "product_photos_qty                     NaN             NaN            NaN  \n",
            "product_weight_g                       NaN             NaN            NaN  \n",
            "product_width_cm                       NaN             NaN            NaN  \n",
            "review_answer_timestamp                NaN             NaN            0.0  \n",
            "review_comment_message                 NaN             NaN        58247.0  \n",
            "review_comment_title                   NaN             NaN        87656.0  \n",
            "review_creation_date                   NaN             NaN            0.0  \n",
            "review_id                              NaN             NaN            0.0  \n",
            "review_score                           NaN             NaN            0.0  \n",
            "seller_city                            NaN             NaN            NaN  \n",
            "seller_id                              NaN             NaN            NaN  \n",
            "seller_state                           NaN             NaN            NaN  \n",
            "seller_zip_code_prefix                 NaN             NaN            NaN  \n",
            "shipping_limit_date                    NaN             NaN            NaN  \n"
          ]
        }
      ]
    },
    {
      "cell_type": "code",
      "source": [
        "# Membuat list DataFrames\n",
        "all_df = [customers_df, order_items_df, orders_df, products_df, sellers_df, product_category_name_translation_df, geolocation_df, order_payments_df, order_reviews_df]\n",
        "\n",
        "# Menggabungkan semua bingkai data menjadi satu bingkai data\n",
        "all_df = pd.concat(all_df, axis=1)\n",
        "\n",
        "# Menyimpan data yang telah dibersihkan\n",
        "all_df.to_csv(\"all_data.csv\", index=False)"
      ],
      "metadata": {
        "id": "owCrO0r1PV21"
      },
      "execution_count": 49,
      "outputs": []
    },
    {
      "cell_type": "markdown",
      "source": [
        "**Insight:**\n",
        "\n",
        "df.isnull().sum() bertujuan untuk menampilkan jumlah nilai kosong di setiap kolom.\n",
        "\n",
        "df.info() digunakan untuk menampilkan informasi tentang DataFrame, termasuk jumlah non-null values.\n",
        "\n",
        "df.isna().any() digunakan untuk mengembalikan True jika ada nilai kosong di DataFrame"
      ],
      "metadata": {
        "id": "Q_5ejIqckiSP"
      }
    },
    {
      "cell_type": "markdown",
      "source": [
        "**2. Menghapus dan mengisi missing values**"
      ],
      "metadata": {
        "id": "IVSkc4TgWRW2"
      }
    },
    {
      "cell_type": "code",
      "source": [
        "# Menghapus baris yang memiliki missing values (jika tidak terlalu banyak)\n",
        "customers_df_cleaned = customers_df.dropna()\n",
        "order_items_df_cleaned = order_items_df.dropna()\n",
        "orders_df_cleaned = orders_df.dropna()\n",
        "products_df_cleaned = products_df.dropna()\n",
        "sellers_df_cleaned = sellers_df.dropna()\n",
        "product_category_name_translation_df_cleaned = product_category_name_translation_df.dropna()\n",
        "geolocation_df_cleaned = geolocation_df.dropna()\n",
        "order_payments_df_cleaned = order_payments_df.dropna()\n",
        "order_reviews_df_cleaned = order_reviews_df.dropna()\n",
        "\n",
        "#Isi missing values dengan rata-rata\n",
        "numeric_cols_orders = orders_df.select_dtypes(include=['number']).columns\n",
        "orders_df_cleaned = orders_df.fillna(orders_df[numeric_cols_orders].mean())\n",
        "numeric_cols_order_items = order_items_df.select_dtypes(include=['number']).columns\n",
        "order_items_df_cleaned = order_items_df.fillna(order_items_df[numeric_cols_order_items].mean())\n",
        "numeric_cols_order_payments = order_payments_df.select_dtypes(include=['number']).columns\n",
        "order_payments_df_cleaned = order_payments_df.fillna(order_payments_df[numeric_cols_order_payments].mean())\n",
        "numeric_cols_order_reviews = order_reviews_df.select_dtypes(include=['number']).columns\n",
        "order_reviews_df_cleaned = order_reviews_df.fillna(order_reviews_df[numeric_cols_order_reviews].mean())\n",
        "numeric_cols_geolocation = geolocation_df.select_dtypes(include=['number']).columns\n",
        "geolocation_df_cleaned = geolocation_df.fillna(geolocation_df[numeric_cols_geolocation].mean())\n",
        "numeric_cols_products = products_df.select_dtypes(include=['number']).columns\n",
        "products_df_cleaned = products_df.fillna(products_df[numeric_cols_products].mean())\n",
        "numeric_cols_sellers = sellers_df.select_dtypes(include=['number']).columns\n",
        "sellers_df_cleaned = sellers_df.fillna(sellers_df[numeric_cols_sellers].mean())\n",
        "numeric_cols_product_category_name_translation = product_category_name_translation_df.select_dtypes(include=['number']).columns\n",
        "product_category_name_translation_df_cleaned = product_category_name_translation_df.fillna(product_category_name_translation_df[numeric_cols_product_category_name_translation].mean())"
      ],
      "metadata": {
        "id": "Ra0mqR9FWF0A"
      },
      "execution_count": 17,
      "outputs": []
    },
    {
      "cell_type": "markdown",
      "source": [
        "**Insight**:\n",
        "\n",
        "tujuan daripada ini adalah mengatasi nilai kosong yang ditemukan\n",
        "\n",
        "df.dropna() digunakan untuk menghapus nilai kosong\n",
        "\n",
        "df.fillna(value) digunakan untuk mengisi nilai kosong dengan nilai tertentu."
      ],
      "metadata": {
        "id": "GIKWFQVdWZ6J"
      }
    },
    {
      "cell_type": "markdown",
      "metadata": {
        "id": "gp-Y6wU38DC1"
      },
      "source": [
        "## Exploratory Data Analysis (EDA)"
      ]
    },
    {
      "cell_type": "markdown",
      "metadata": {
        "id": "MW7WF2kr8DC1"
      },
      "source": [
        "### Untuk melihat informasi penjualan"
      ]
    },
    {
      "cell_type": "code",
      "source": [
        "# Menggabungkan order_items_df dengan products_df untuk mendapatkan informasi nama produk\n",
        "merged_df = pd.merge(order_items_df, products_df[['product_id', 'product_category_name']], on='product_id', how='inner')\n",
        "\n",
        "# Menghitung total penjualan dan total pendapatan per produk\n",
        "sales_by_product = merged_df.groupby('product_category_name').agg(\n",
        "    total_items_sold=('order_item_id', 'count'),   # Menghitung jumlah item yang terjual\n",
        "    total_revenue=('price', 'sum')  # Menghitung total pendapatan\n",
        ").reset_index()\n",
        "\n",
        "# Menampilkan hasil\n",
        "print(\"Informasi Penjualan berdasarkan Nama Produk:\")\n",
        "print(sales_by_product.sort_values(by='total_items_sold', ascending=False))\n",
        "\n",
        "# Jika ingin menampilkan hanya beberapa baris produk dengan penjualan terbanyak\n",
        "print(\"\\nTop 10 Produk dengan Penjualan Terbanyak:\")\n",
        "print(sales_by_product.sort_values(by='total_items_sold', ascending=False).head(10))\n"
      ],
      "metadata": {
        "colab": {
          "base_uri": "https://localhost:8080/"
        },
        "id": "VyJDPSbhaUkg",
        "outputId": "0ac7d3c0-0653-4c5a-9b92-7f10d1915b74"
      },
      "execution_count": 26,
      "outputs": [
        {
          "output_type": "stream",
          "name": "stdout",
          "text": [
            "Informasi Penjualan berdasarkan Nama Produk:\n",
            "            product_category_name  total_items_sold  total_revenue\n",
            "13                cama_mesa_banho             11115     1036988.68\n",
            "11                   beleza_saude              9670     1258681.34\n",
            "32                  esporte_lazer              8641      988048.97\n",
            "54               moveis_decoracao              8334      729762.49\n",
            "44         informatica_acessorios              7827      911954.32\n",
            "..                            ...               ...            ...\n",
            "17              cds_dvds_musicais                14         730.00\n",
            "46                     la_cuisine                14        2054.99\n",
            "60                       pc_gamer                 9        1545.95\n",
            "37  fashion_roupa_infanto_juvenil                 8         569.85\n",
            "67             seguros_e_servicos                 2         283.29\n",
            "\n",
            "[73 rows x 3 columns]\n",
            "\n",
            "Top 10 Produk dengan Penjualan Terbanyak:\n",
            "     product_category_name  total_items_sold  total_revenue\n",
            "13         cama_mesa_banho             11115     1036988.68\n",
            "11            beleza_saude              9670     1258681.34\n",
            "32           esporte_lazer              8641      988048.97\n",
            "54        moveis_decoracao              8334      729762.49\n",
            "44  informatica_acessorios              7827      911954.32\n",
            "72   utilidades_domesticas              6964      632248.66\n",
            "66      relogios_presentes              5991     1205005.68\n",
            "70               telefonia              4545      323667.53\n",
            "40      ferramentas_jardim              4347      485256.46\n",
            "8               automotivo              4235      592720.11\n"
          ]
        }
      ]
    },
    {
      "cell_type": "markdown",
      "source": [
        "**Insight:**\n",
        "\n",
        "\n",
        "*   [['product_id', 'product_category_name']] hanya mengambil kolom product_id dan product_category_name dari products_df untuk menghindari penggabungan kolom yang tidak diperlukan.\n",
        "\n",
        "*   on='product_id' untuk menentukan kolom yang digunakan untuk menggabungkan kedua DataFrame.\n",
        "\n",
        "*   how='inner' inner join digunakan untuk, yang hanya mengambil data yang memiliki product_id yang sama di kedua DataFrame."
      ],
      "metadata": {
        "id": "th_Lzl2Fkj9O"
      }
    },
    {
      "cell_type": "markdown",
      "metadata": {
        "id": "zsyZjqak8DC2"
      },
      "source": [
        "## Visualization & Explanatory Analysis"
      ]
    },
    {
      "cell_type": "markdown",
      "metadata": {
        "id": "HZxOiQ6n8DC2"
      },
      "source": [
        "### Pertanyaan 1: Produk mana yang paling menguntungkan?"
      ]
    },
    {
      "cell_type": "code",
      "execution_count": 46,
      "metadata": {
        "id": "1swJUdAD8DC2",
        "colab": {
          "base_uri": "https://localhost:8080/",
          "height": 590
        },
        "outputId": "7cc124a3-5c17-4a4a-a8f6-f92aa12a8e5e"
      },
      "outputs": [
        {
          "output_type": "display_data",
          "data": {
            "text/plain": [
              "<Figure size 1000x600 with 1 Axes>"
            ],
            "image/png": "[encoded data removed]"
          },
          "metadata": {}
        }
      ],
      "source": [
        "# Mengambil data 10 produk dengan total pendapatan tertinggi\n",
        "top_revenue_products = sales_by_product.sort_values(by='total_revenue', ascending=False).head(10)\n",
        "\n",
        "# Membuat ukuran plot\n",
        "plt.figure(figsize=(10, 6))\n",
        "\n",
        "# Membuat bar chart menggunakan Seaborn\n",
        "sns.barplot(x='total_revenue', y='product_category_name', data=top_revenue_products, color='pink')\n",
        "\n",
        "# Menambahkan judul dan label\n",
        "plt.title('Top 10 Produk dengan Pendapatan Tertinggi', fontsize=16)\n",
        "plt.xlabel('Total Revenue', fontsize=12)\n",
        "plt.ylabel('Product Category Name', fontsize=12)\n",
        "\n",
        "# Menampilkan plot\n",
        "plt.show()\n"
      ]
    },
    {
      "cell_type": "markdown",
      "source": [
        "**Insight:**\n",
        "\n",
        "*   sort_values(by='total_revenue', ascending=False): Mengurutkan DataFrame berdasarkan kolom total_revenue secara descending (dari yang terbesar ke terkecil).\n",
        "\n",
        "\n",
        "*   head(10): Mengambil 10 baris pertama dari DataFrame yang telah diurutkan, sehingga menghasilkan 10 produk dengan total pendapatan tertinggi.\n",
        "\n",
        "*   plt.figure(): Fungsi untuk membuat figure plot.\n",
        "\n",
        "*   figsize=(10, 6): Menentukan ukuran figure plot dalam inci.\n",
        "\n",
        "*   sns.barplot(): Fungsi untuk membuat bar chart\n",
        "\n",
        "*   x='total_revenue': Menentukan kolom total_revenue sebagai sumbu x.\n",
        "y='product_category_name': Menentukan kolom product_category_name sebagai sumbu y.\n",
        "\n",
        "*   data=top_revenue_products: Menentukan DataFrame top_revenue_products sebagai data yang akan digunakan untuk membuat bar chart."
      ],
      "metadata": {
        "id": "_0-36BDLklRg"
      }
    },
    {
      "cell_type": "markdown",
      "metadata": {
        "id": "DgHI7CiU8DC2"
      },
      "source": [
        "### Pertanyaan 2: Bagaimana kita dapat mengetahui produk yang paling disukai?"
      ]
    },
    {
      "cell_type": "code",
      "execution_count": 45,
      "metadata": {
        "id": "Go0lCsvO8DC2",
        "colab": {
          "base_uri": "https://localhost:8080/",
          "height": 678
        },
        "outputId": "573a34cd-1fec-4408-8905-1c492a176ae6"
      },
      "outputs": [
        {
          "output_type": "display_data",
          "data": {
            "text/plain": [
              "<Figure size 800x800 with 1 Axes>"
            ],
            "image/png": "[encoded data removed]"
          },
          "metadata": {}
        }
      ],
      "source": [
        "# Mengambil hanya kategori produk dan total item terjual\n",
        "top_sales_by_product = sales_by_product.sort_values(by='total_items_sold', ascending=False).head(10)  # Top 10 produk\n",
        "product_categories = top_sales_by_product['product_category_name']\n",
        "total_items_sold = top_sales_by_product['total_items_sold']\n",
        "\n",
        "# Membuat pie chart\n",
        "plt.figure(figsize=(8, 8))\n",
        "plt.pie(total_items_sold, labels=product_categories, autopct='%1.1f%%', startangle=90, colors=plt.cm.Paired.colors)\n",
        "\n",
        "# Menambahkan judul\n",
        "plt.title('Top 10 Produk Berdasarkan Jumlah Penjualan')\n",
        "\n",
        "# Menampilkan chart\n",
        "plt.axis('equal')  # Menjaga pie chart berbentuk lingkaran\n",
        "plt.show()\n"
      ]
    },
    {
      "cell_type": "markdown",
      "source": [
        "**Insight:**\n",
        "\n",
        "*   sort_values(by='total_revenue', ascending=False): Mengurutkan DataFrame berdasarkan kolom total_revenue secara descending (dari yang terbesar ke terkecil).\n",
        "\n",
        "\n",
        "*   head(10): Mengambil 10 baris pertama dari DataFrame yang telah diurutkan, sehingga menghasilkan 10 produk dengan total pendapatan tertinggi.\n",
        "\n",
        "*   plt.figure(): Fungsi untuk membuat figure plot.\n",
        "\n",
        "*   figsize=(10, 6): Menentukan ukuran figure plot dalam inci.\n",
        "\n",
        "*   sns.barplot(): Fungsi untuk membuat bar chart\n",
        "\n",
        "*   x='total_revenue': Menentukan kolom total_revenue sebagai sumbu x.\n",
        "y='product_category_name': Menentukan kolom product_category_name sebagai sumbu y.\n",
        "\n",
        "*   data=top_revenue_products: Menentukan DataFrame top_revenue_products sebagai data yang akan digunakan untuk membuat bar chart."
      ],
      "metadata": {
        "id": "n7uAE-Qh2vUx"
      }
    },
    {
      "cell_type": "markdown",
      "metadata": {
        "id": "_WeHlCeX8DC2"
      },
      "source": [
        "## Conclusion"
      ]
    },
    {
      "cell_type": "markdown",
      "metadata": {
        "id": "ZTcyR48Y8DC2"
      },
      "source": [
        "\n",
        "\n",
        "*   Produk yang paling menguntungkan pada penjualan adalah beleza saude dari tabel bar yang telah kita analisis\n",
        "*   Dari pie chart ditampilkan 10 besar produk yang paling disukai banyak orang berurutan dari yang paling terbesar adalah\n",
        "\n",
        "cama mesa banho\n",
        "\n",
        "beleza saude\n",
        "\n",
        "esporte lazer\n",
        "\n",
        "moveis decoracao\n",
        "\n",
        "informatica accesorious\n",
        "\n",
        "utilidades domesticas\n",
        "\n",
        "religios presentes\n",
        "\n",
        "telefonia\n",
        "\n",
        "ferramentas jardim\n",
        "\n",
        "automotivio\n"
      ]
    }
  ],
  "metadata": {
    "kernelspec": {
      "display_name": "Python 3",
      "language": "python",
      "name": "python3"
    },
    "language_info": {
      "name": "python",
      "version": "3.8.0 (tags/v3.8.0:fa919fd, Oct 14 2019, 19:21:23) [MSC v.1916 32 bit (Intel)]"
    },
    "orig_nbformat": 4,
    "vscode": {
      "interpreter": {
        "hash": "972b3bf27e332e87b5379f2791f6ef9dfc79c71018c370b0d7423235e20fe4d7"
      }
    },
    "colab": {
      "provenance": []
    }
  },
  "nbformat": 4,
  "nbformat_minor": 0
}